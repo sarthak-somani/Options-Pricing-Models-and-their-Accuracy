{
 "cells": [
  {
   "cell_type": "code",
   "execution_count": 1,
   "id": "136c301e-962a-420f-8b52-dcd74f39d42a",
   "metadata": {},
   "outputs": [
    {
     "name": "stdout",
     "output_type": "stream",
     "text": [
      "Defaulting to user installation because normal site-packages is not writeable\n",
      "Collecting nsepython\n",
      "  Downloading nsepython-2.97-py3-none-any.whl (25 kB)\n",
      "Requirement already satisfied: pandas in /home/shad0w/.local/lib/python3.10/site-packages (from nsepython) (2.2.3)\n",
      "Requirement already satisfied: scipy in /home/shad0w/.local/lib/python3.10/site-packages (from nsepython) (1.10.1)\n",
      "Requirement already satisfied: requests in /home/shad0w/.local/lib/python3.10/site-packages (from nsepython) (2.32.3)\n",
      "Requirement already satisfied: pytz>=2020.1 in /home/shad0w/.local/lib/python3.10/site-packages (from pandas->nsepython) (2025.1)\n",
      "Requirement already satisfied: numpy>=1.22.4 in /home/shad0w/.local/lib/python3.10/site-packages (from pandas->nsepython) (1.24.4)\n",
      "Requirement already satisfied: tzdata>=2022.7 in /home/shad0w/.local/lib/python3.10/site-packages (from pandas->nsepython) (2025.1)\n",
      "Requirement already satisfied: python-dateutil>=2.8.2 in /home/shad0w/.local/lib/python3.10/site-packages (from pandas->nsepython) (2.9.0.post0)\n",
      "Requirement already satisfied: charset-normalizer<4,>=2 in /home/shad0w/.local/lib/python3.10/site-packages (from requests->nsepython) (3.4.1)\n",
      "Requirement already satisfied: urllib3<3,>=1.21.1 in /usr/lib/python3/dist-packages (from requests->nsepython) (1.26.5)\n",
      "Requirement already satisfied: idna<4,>=2.5 in /usr/lib/python3/dist-packages (from requests->nsepython) (3.3)\n",
      "Requirement already satisfied: certifi>=2017.4.17 in /home/shad0w/.local/lib/python3.10/site-packages (from requests->nsepython) (2025.1.31)\n",
      "Requirement already satisfied: six>=1.5 in /usr/lib/python3/dist-packages (from python-dateutil>=2.8.2->pandas->nsepython) (1.16.0)\n",
      "Installing collected packages: nsepython\n",
      "Successfully installed nsepython-2.97\n"
     ]
    }
   ],
   "source": [
    "!pip install nsepython"
   ]
  },
  {
   "cell_type": "code",
   "execution_count": 3,
   "id": "0d7f6ebd-01f5-4968-a6ab-76ae8839c01c",
   "metadata": {},
   "outputs": [
    {
     "name": "stdout",
     "output_type": "stream",
     "text": [
      "Defaulting to user installation because normal site-packages is not writeable\n",
      "Requirement already satisfied: matplotlib in /home/shad0w/.local/lib/python3.10/site-packages (3.10.1)\n",
      "Requirement already satisfied: cycler>=0.10 in /home/shad0w/.local/lib/python3.10/site-packages (from matplotlib) (0.12.1)\n",
      "Requirement already satisfied: fonttools>=4.22.0 in /home/shad0w/.local/lib/python3.10/site-packages (from matplotlib) (4.56.0)\n",
      "Requirement already satisfied: packaging>=20.0 in /home/shad0w/.local/lib/python3.10/site-packages (from matplotlib) (24.2)\n",
      "Requirement already satisfied: pyparsing>=2.3.1 in /usr/lib/python3/dist-packages (from matplotlib) (2.4.7)\n",
      "Requirement already satisfied: python-dateutil>=2.7 in /home/shad0w/.local/lib/python3.10/site-packages (from matplotlib) (2.9.0.post0)\n",
      "Requirement already satisfied: numpy>=1.23 in /home/shad0w/.local/lib/python3.10/site-packages (from matplotlib) (1.24.4)\n",
      "Requirement already satisfied: pillow>=8 in /usr/lib/python3/dist-packages (from matplotlib) (9.0.1)\n",
      "Requirement already satisfied: kiwisolver>=1.3.1 in /home/shad0w/.local/lib/python3.10/site-packages (from matplotlib) (1.4.8)\n",
      "Requirement already satisfied: contourpy>=1.0.1 in /home/shad0w/.local/lib/python3.10/site-packages (from matplotlib) (1.3.1)\n",
      "Requirement already satisfied: six>=1.5 in /usr/lib/python3/dist-packages (from python-dateutil>=2.7->matplotlib) (1.16.0)\n"
     ]
    }
   ],
   "source": [
    "!pip install matplotlib"
   ]
  },
  {
   "cell_type": "code",
   "execution_count": 4,
   "id": "a118e182-27fa-4936-bf29-bdec69bea747",
   "metadata": {},
   "outputs": [],
   "source": [
    "from nsepython import nse_optionchain_scrapper\n",
    "from datetime import datetime\n",
    "import numpy as np\n",
    "from scipy.stats import norm\n",
    "import pandas as pd\n",
    "import matplotlib.pyplot as plt"
   ]
  },
  {
   "cell_type": "code",
   "execution_count": null,
   "id": "56fa67f5-0f14-49de-acf1-fa445095b107",
   "metadata": {},
   "outputs": [],
   "source": []
  }
 ],
 "metadata": {
  "kernelspec": {
   "display_name": "Python 3 (ipykernel)",
   "language": "python",
   "name": "python3"
  },
  "language_info": {
   "codemirror_mode": {
    "name": "ipython",
    "version": 3
   },
   "file_extension": ".py",
   "mimetype": "text/x-python",
   "name": "python",
   "nbconvert_exporter": "python",
   "pygments_lexer": "ipython3",
   "version": "3.10.12"
  }
 },
 "nbformat": 4,
 "nbformat_minor": 5
}
